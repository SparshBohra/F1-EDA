{
 "cells": [
  {
   "cell_type": "markdown",
   "metadata": {
    "_uuid": "88b0f0835b942ccfbfaee1eb473e74c693d71382"
   },
   "source": [
    "# Hands up!! if you read the above headline in David Croft's voice. "
   ]
  },
  {
   "cell_type": "markdown",
   "metadata": {
    "_uuid": "068186c63e02104885a9c83427e66ce402163423"
   },
   "source": [
    "Formula One (also Formula 1 or F1) is the highest class of single-seater auto racing sanctioned by the Fédération Internationale de l'Automobile (FIA) and owned by the Formula One Group. The FIA Formula One World Championship has been one of the premier forms of racing around the world since its inaugural season in 1950. The word \"formula\" in the name refers to the set of rules to which all participants' cars must conform. A Formula One season consists of a series of races, known as Grands Prix (French for 'grand prizes' or 'great prizes'), which take place worldwide on purpose-built circuits and on public roads.\n",
    "\n",
    "The results of each race are evaluated using a points system to determine two annual World Championships: one for drivers, the other for constructors. Drivers must hold valid Super Licences, the highest class of racing licence issued by the FIA. The races must run on tracks graded \"1\" (formerly \"A\"), the highest grade-rating issued by the FIA. Most events occur in rural locations on purpose-built tracks, but several events take place on city streets.\n",
    "\n",
    "Formula One cars are the fastest regulated road-course racing cars in the world, owing to very high cornering speeds achieved through the generation of large amounts of aerodynamic downforce. The cars underwent major changes in 2017, allowing wider front and rear wings, and wider tyres, resulting in cornering forces closing in on 6.5g and top speeds of up to approximately 375 km/h (235 mph). As of 2018 the hybrid engines are limited in performance to a maximum of 15,000 rpm and the cars are very dependent on electronics—although traction control and other driving aids have been banned since 2008—and also on aerodynamics, suspension, and tyres.\n",
    "\n",
    "While Europe is the sport's traditional base, the championship operates globally, with 11 of the 21 races in the 2018 season taking place outside Europe. "
   ]
  },
  {
   "cell_type": "markdown",
   "metadata": {
    "_uuid": "e5a51a8ea740b9f4ff8066d982723cda4dfbc08d"
   },
   "source": [
    "![](http://ichef.bbci.co.uk/news/976/cpsprodpb/A235/production/_98952514_newf1touse.jpg)"
   ]
  },
  {
   "cell_type": "code",
   "execution_count": null,
   "metadata": {
    "_cell_guid": "b1076dfc-b9ad-4769-8c92-a6c4dae69d19",
    "_kg_hide-input": true,
    "_kg_hide-output": true,
    "_uuid": "8f2839f25d086af736a60e9eeb907d3b93b6e0e5"
   },
   "outputs": [],
   "source": [
    "# This Python 3 environment comes with many helpful analytics libraries installed\n",
    "# It is defined by the kaggle/python docker image: https://github.com/kaggle/docker-python\n",
    "# For example, here's several helpful packages to load in \n",
    "\n",
    "import numpy as np # linear algebra\n",
    "import pandas as pd # data processing, CSV file I/O (e.g. pd.read_csv)\n",
    "import plotly.offline as py\n",
    "from plotly.offline import init_notebook_mode, iplot\n",
    "import plotly.graph_objs as go\n",
    "from plotly import tools\n",
    "init_notebook_mode(connected=True)  \n",
    "import plotly.figure_factory as ff\n",
    "# Input data files are available in the \"../input/\" directory.\n",
    "# For example, running this (by clicking run or pressing Shift+Enter) will list the files in the input directory\n",
    "\n",
    "import os\n",
    "print(os.listdir(\"../input\"))\n",
    "\n",
    "# Any results you write to the current directory are saved as output."
   ]
  },
  {
   "cell_type": "code",
   "execution_count": null,
   "metadata": {
    "_cell_guid": "79c7e3d0-c299-4dcb-8224-4455121ee9b0",
    "_kg_hide-input": true,
    "_kg_hide-output": true,
    "_uuid": "d629ff2d2480ee46fbb7e2d37f6b5fab8052498a"
   },
   "outputs": [],
   "source": [
    "circuits = pd.read_csv('../input/circuits.csv', encoding= 'latin1')\n",
    "circuits.head()"
   ]
  },
  {
   "cell_type": "code",
   "execution_count": null,
   "metadata": {
    "_kg_hide-input": true,
    "_uuid": "ac09460cff9ef2492886b122396c567de534b6bf"
   },
   "outputs": [],
   "source": [
    "circuits= circuits.fillna(0)"
   ]
  },
  {
   "cell_type": "markdown",
   "metadata": {
    "_uuid": "ebc54083153a3e691d1d2ba3bd5fb927c49e508b"
   },
   "source": [
    "# Circuit Locations all over the world "
   ]
  },
  {
   "cell_type": "code",
   "execution_count": null,
   "metadata": {
    "_kg_hide-input": true,
    "_uuid": "940d1ff0906a21a3668379e468ac157192d5110f"
   },
   "outputs": [],
   "source": [
    "mpis = [{'lat': circuits['lat'],\n",
    "  'lon': circuits['lng'],\n",
    "  'marker': {'color': 'rgb(0,116,217)',\n",
    "   'line': {'color': 'rgb(40,40,40)', 'width': 0.5},\n",
    "   'size': 38.700000000000003,\n",
    "   'sizemode': 'diameter'},\n",
    "  'text': '0.387',\n",
    "  'type': 'scattergeo'},\n",
    "]\n",
    "\n",
    "\n",
    "layout = go.Layout(\n",
    "    title = 'Circuits World Location',\n",
    "    showlegend = True,\n",
    "    geo = dict(\n",
    "            scope='world',\n",
    "            projection=dict( type = 'natural earth'),\n",
    "            showland = True,\n",
    "            landcolor = 'rgb(217, 217, 217)',\n",
    "            subunitwidth=1,\n",
    "            countrywidth=1,\n",
    "            subunitcolor=\"rgb(255, 255, 255)\",\n",
    "            countrycolor=\"rgb(255, 255, 255)\"\n",
    "        ),)\n",
    "\n",
    "fig =  go.Figure(layout=layout, data=mpis)\n",
    "iplot( fig, validate=False)"
   ]
  },
  {
   "cell_type": "code",
   "execution_count": null,
   "metadata": {
    "_kg_hide-input": true,
    "_kg_hide-output": true,
    "_uuid": "17e9caa3826a210c112f92d6159e7d2e1ae905f1"
   },
   "outputs": [],
   "source": [
    "constructors= pd.read_csv('../input/constructors.csv')\n",
    "constructors.head()"
   ]
  },
  {
   "cell_type": "code",
   "execution_count": null,
   "metadata": {
    "_kg_hide-input": true,
    "_uuid": "73219a7e89d0c050916a18b5ae1fdefae64e1bc2"
   },
   "outputs": [],
   "source": [
    "constructors1= constructors[['name','nationality']]"
   ]
  },
  {
   "cell_type": "code",
   "execution_count": null,
   "metadata": {
    "_kg_hide-input": true,
    "_uuid": "97d1fda92ec88e72132872b5f442ea7359ba3523"
   },
   "outputs": [],
   "source": [
    " count= constructors1.groupby( [ \"nationality\",\"name\"] ).size().reset_index()"
   ]
  },
  {
   "cell_type": "code",
   "execution_count": null,
   "metadata": {
    "_kg_hide-input": true,
    "_uuid": "0f1d4f31ee233bb7fb6d54141cd35c21dddb0899"
   },
   "outputs": [],
   "source": [
    "import random\n",
    "def random_colors(number_of_colors):\n",
    "    color = [\"#\"+''.join([random.choice('0123456789ABCDEF') for j in range(6)])\n",
    "                 for i in range(number_of_colors)]\n",
    "    return color"
   ]
  },
  {
   "cell_type": "markdown",
   "metadata": {
    "_uuid": "9138479d991f25ad099d7072bc2dd4a53c936fa7"
   },
   "source": [
    "# Most Constructors Nationality"
   ]
  },
  {
   "cell_type": "code",
   "execution_count": null,
   "metadata": {
    "_kg_hide-input": true,
    "_uuid": "9eb525bd21d98796d260bd65938fd6ec0da31b63"
   },
   "outputs": [],
   "source": [
    "constructors_count = constructors['nationality'].value_counts()\n",
    "data = [go.Bar(\n",
    "    x = constructors_count.index,\n",
    "    y = constructors_count.values,\n",
    "    marker = dict(color = random_colors(25))\n",
    ")]\n",
    "layout = dict(\n",
    "         title= \"Constructors by Country \"\n",
    ")\n",
    "fig = dict( data=data, layout=layout )\n",
    "iplot( fig, validate=False )"
   ]
  },
  {
   "cell_type": "markdown",
   "metadata": {
    "_uuid": "204429cf69895d2180e6e64afff11248d7b5e79c"
   },
   "source": [
    "**British Constructors rule among the formula 1 constructors Mclaren to Williams all belong to British constructors, 85 constructors belong to British Nationality.**"
   ]
  },
  {
   "cell_type": "code",
   "execution_count": null,
   "metadata": {
    "_kg_hide-input": true,
    "_uuid": "48ed37e118d29eae5ba893ef59fe67041564376e"
   },
   "outputs": [],
   "source": [
    "def calculateTextpositions(values):\n",
    "    total = sum(values)\n",
    "    # Do not display percentages < 5%\n",
    "    return map(lambda v: 'none' if float(v)/total < 0.05 else 'auto', values)"
   ]
  },
  {
   "cell_type": "code",
   "execution_count": null,
   "metadata": {
    "_kg_hide-input": true,
    "_uuid": "55c333ba8af07869f5772e977aa2fdd827e83591"
   },
   "outputs": [],
   "source": [
    "constructors_count = constructors['nationality'].value_counts()\n",
    "trace = go.Pie(labels=constructors_count.index, values=constructors_count.values, hole=0.6,textinfo= \"none\")\n",
    "layout = go.Layout(\n",
    "    title='Percentage of Constructors by Nationality'\n",
    ")\n",
    "fig = go.Figure(data=[trace], layout=layout)\n",
    "iplot(fig, filename=\"plotting-library\")"
   ]
  },
  {
   "cell_type": "markdown",
   "metadata": {
    "_uuid": "df67431713908029875b72d4ade74846b9a16dc5"
   },
   "source": [
    "![](https://www.grandprix247.com/wp-content/uploads/2018/07/IC4rZP4OK9QQPHOh9GVP6y4fkPD5A4Eh__54I5307.jpg)"
   ]
  },
  {
   "cell_type": "code",
   "execution_count": null,
   "metadata": {
    "_kg_hide-input": true,
    "_kg_hide-output": true,
    "_uuid": "cc6341a72a5e32c34b4b6b86e3980ceb01b57087"
   },
   "outputs": [],
   "source": [
    "drivers= pd.read_csv('../input/drivers.csv', encoding='latin1')\n",
    "drivers.head()"
   ]
  },
  {
   "cell_type": "code",
   "execution_count": null,
   "metadata": {
    "_kg_hide-input": true,
    "_kg_hide-output": true,
    "_uuid": "d6271b839d776aab027580eb278ef25b80ccb394"
   },
   "outputs": [],
   "source": [
    "import datetime\n",
    "datetime.datetime.strptime"
   ]
  },
  {
   "cell_type": "code",
   "execution_count": null,
   "metadata": {
    "_kg_hide-input": true,
    "_uuid": "33e378f9dbb9ce0c57aa6c0778ca78bb07cc2e4f"
   },
   "outputs": [],
   "source": [
    "import datetime as dt\n",
    "drivers['dob'] = pd.to_datetime(drivers['dob'])\n",
    "\n",
    "include = drivers[drivers['dob'].dt.year < 1985]"
   ]
  },
  {
   "cell_type": "code",
   "execution_count": null,
   "metadata": {
    "_kg_hide-input": true,
    "_kg_hide-output": true,
    "_uuid": "ea7fc01c8712490929a73639e583f3ca88b1b39f"
   },
   "outputs": [],
   "source": [
    "include.head()"
   ]
  },
  {
   "cell_type": "code",
   "execution_count": null,
   "metadata": {
    "_kg_hide-input": true,
    "_uuid": "ef43949cfd877f99503d8ff2b8c5151452eaee6d"
   },
   "outputs": [],
   "source": [
    "new = drivers[drivers['dob'].dt.year > 1985]"
   ]
  },
  {
   "cell_type": "markdown",
   "metadata": {
    "_uuid": "c521d0709c42874d29befd9f169f00f6fd408740"
   },
   "source": [
    "#  30+ Old Drivers Percentage "
   ]
  },
  {
   "cell_type": "code",
   "execution_count": null,
   "metadata": {
    "_kg_hide-input": true,
    "_uuid": "c20891879bd6dcb9a11caa4d1a4f80d6b5ed6b33"
   },
   "outputs": [],
   "source": [
    "old_count = include['nationality'].value_counts()\n",
    "trace = go.Pie(labels=old_count.index, values=old_count.values, hole=0.6,textinfo='none')\n",
    "layout = go.Layout(\n",
    "    title='Old Drivers Percentage'\n",
    ")\n",
    "fig = go.Figure(data=[trace], layout=layout)\n",
    "iplot(fig, filename=\"plotting-library\")"
   ]
  },
  {
   "cell_type": "markdown",
   "metadata": {
    "_uuid": "27dbe52897828e7a6ae8f107b2a0968820ab2ba8"
   },
   "source": [
    "**British Drivers ruled over the past time and the most drivers have experienced through their time with 19.6% **"
   ]
  },
  {
   "cell_type": "markdown",
   "metadata": {
    "_uuid": "aef98dc9fa9ed8bca3ae110f07443a721994c19a"
   },
   "source": [
    "![](https://www.mementoexclusives.com/images/companies/1/Lewis%20Hamilton%205%20time%20world%20champion%20advert%20WEB.jpg?1540889412614)"
   ]
  },
  {
   "cell_type": "markdown",
   "metadata": {
    "_uuid": "e57dc95729455922e2bb63ba936856d59857cab7"
   },
   "source": [
    "# Percentage of Young Drivers"
   ]
  },
  {
   "cell_type": "code",
   "execution_count": null,
   "metadata": {
    "_kg_hide-input": true,
    "_uuid": "e692cab827e2d992a57c8362e9150f2428e10136"
   },
   "outputs": [],
   "source": [
    "new_count = new['nationality'].value_counts()\n",
    "trace = go.Pie(labels=new_count.index, values=new_count.values, hole=0.6,textinfo='none')\n",
    "layout = go.Layout(\n",
    "    title='New Drivers Percentage'\n",
    ")\n",
    "fig = go.Figure(data=[trace], layout=layout)\n",
    "iplot(fig, filename=\"plotting-library\")"
   ]
  },
  {
   "cell_type": "markdown",
   "metadata": {
    "_uuid": "ec23415c67e555e9828f27618a78b55e12b2f50e"
   },
   "source": [
    "**French young drivers have been pretty interested in formula 1 these days more than any other nationality with 18.2%**"
   ]
  },
  {
   "cell_type": "markdown",
   "metadata": {
    "_uuid": "e23007baa6194ed01912e555926f2bd80a598233"
   },
   "source": [
    "![](https://images.spot.im/v1/production/bexrf9modt40kadgwqpg)"
   ]
  },
  {
   "cell_type": "markdown",
   "metadata": {
    "_uuid": "9d6bd0639e858e8f92b667f03567e0b024dea202"
   },
   "source": [
    "**I wish Jules Bianchi was with us but had to put up his picture among young french drivers**"
   ]
  },
  {
   "cell_type": "code",
   "execution_count": null,
   "metadata": {
    "_kg_hide-input": true,
    "_kg_hide-output": true,
    "_uuid": "29e856fd9321b09fad5f022f7f8296badce38a05"
   },
   "outputs": [],
   "source": [
    "driver_standings= pd.read_csv('../input/driverStandings.csv')\n",
    "driver_standings.head()"
   ]
  },
  {
   "cell_type": "code",
   "execution_count": null,
   "metadata": {
    "_kg_hide-input": true,
    "_uuid": "0edb44eee0a282410b94df1bad340b1a6c6e753f"
   },
   "outputs": [],
   "source": [
    "driver_standings= driver_standings.fillna(0)"
   ]
  },
  {
   "cell_type": "code",
   "execution_count": null,
   "metadata": {
    "_kg_hide-input": true,
    "_uuid": "0d861c21c1f5cf91108ccb4dd9314d036ef5e7a9"
   },
   "outputs": [],
   "source": [
    "results= driver_standings.merge(drivers, how='left', on= 'driverId')"
   ]
  },
  {
   "cell_type": "code",
   "execution_count": null,
   "metadata": {
    "_kg_hide-input": true,
    "_kg_hide-output": true,
    "_uuid": "efb020bb7979d0af964b7de9d0ba1ebdc4f766ac"
   },
   "outputs": [],
   "source": [
    "results.head()"
   ]
  },
  {
   "cell_type": "code",
   "execution_count": null,
   "metadata": {
    "_kg_hide-input": true,
    "_uuid": "629c2cda5aae3316a21220a428ae42359c2694b4"
   },
   "outputs": [],
   "source": [
    "results_filtered = results[results['position'] == 1]"
   ]
  },
  {
   "cell_type": "code",
   "execution_count": null,
   "metadata": {
    "_kg_hide-input": true,
    "_kg_hide-output": true,
    "_uuid": "8f0e247af50375bfed3a3e5a25ea9091fd8cf0be"
   },
   "outputs": [],
   "source": [
    "results_filtered"
   ]
  },
  {
   "cell_type": "markdown",
   "metadata": {
    "_uuid": "29cabb243ef8001e6cf720233e8662dc0d030b38"
   },
   "source": [
    "# Most formula 1 victories among the drivers"
   ]
  },
  {
   "cell_type": "code",
   "execution_count": null,
   "metadata": {
    "_kg_hide-input": true,
    "_uuid": "76b209519b8c2e9b1e43048095e14aceade12e22"
   },
   "outputs": [],
   "source": [
    "win_count = results_filtered['surname'].value_counts()\n",
    "trace = go.Pie(labels=win_count.index, values=win_count.values, hole=0.6,textinfo='none')\n",
    "layout = go.Layout(\n",
    "    title='Win Percentage by Drivers'\n",
    ")\n",
    "fig = go.Figure(data=[trace], layout=layout)\n",
    "iplot(fig, filename=\"plotting-library\")"
   ]
  },
  {
   "cell_type": "code",
   "execution_count": null,
   "metadata": {
    "_kg_hide-input": true,
    "_uuid": "d23634a12b975613ed75032589e4bc7b7c5dd626"
   },
   "outputs": [],
   "source": [
    "win_count = results_filtered['surname'].value_counts()\n",
    "data = [go.Bar(\n",
    "    x = win_count.values,\n",
    "    y = win_count.index,\n",
    "    orientation = 'h',\n",
    "    marker = dict(color = random_colors(100))\n",
    ")]\n",
    "layout = dict(\n",
    "         title= \"Wins by Drivers \"\n",
    ")\n",
    "fig = dict( data=data, layout=layout )\n",
    "iplot( fig, validate=False )"
   ]
  },
  {
   "cell_type": "markdown",
   "metadata": {
    "_uuid": "01a8ab17402972411c3cda39ced2b84065a1ec23"
   },
   "source": [
    "**Of course who it'll be other than Schumacher with 121 wins followed by Prost with 79 next and Hamilton reaching their neck.**"
   ]
  },
  {
   "cell_type": "markdown",
   "metadata": {
    "_uuid": "effe3a01dfbed4079a9db2893346362ce13d77b3"
   },
   "source": [
    "![](https://cdn.dnaindia.com/sites/default/files/styles/full/public/2018/12/18/766642-schumacher-reuters.jpg)"
   ]
  },
  {
   "cell_type": "code",
   "execution_count": null,
   "metadata": {
    "_kg_hide-input": true,
    "_kg_hide-output": true,
    "_uuid": "28c8494543c13e23573bb3cddb0edf04068b9164"
   },
   "outputs": [],
   "source": [
    "races= pd.read_csv('../input/races.csv')\n",
    "races.head()"
   ]
  },
  {
   "cell_type": "code",
   "execution_count": null,
   "metadata": {
    "_kg_hide-input": true,
    "_uuid": "7761fad2f00dbe31fb88ed5b89086e058fe84658"
   },
   "outputs": [],
   "source": [
    "results2= results_filtered.merge(races, how='left', on= 'raceId')"
   ]
  },
  {
   "cell_type": "code",
   "execution_count": null,
   "metadata": {
    "_kg_hide-input": true,
    "_kg_hide-output": true,
    "_uuid": "f8b1a04509d78c073c850f5ea8a8650e67c0156d"
   },
   "outputs": [],
   "source": [
    "results2.head()"
   ]
  },
  {
   "cell_type": "code",
   "execution_count": null,
   "metadata": {
    "_kg_hide-input": true,
    "_uuid": "937e17b0f27a67c3d859e580fde86b62efb802f1"
   },
   "outputs": [],
   "source": [
    "results3 = results2[['surname','year']]"
   ]
  },
  {
   "cell_type": "code",
   "execution_count": null,
   "metadata": {
    "_kg_hide-input": true,
    "_uuid": "2bcfdabea04fec385bf4ca32c24bff1cf7b82190"
   },
   "outputs": [],
   "source": [
    "year_win= results3.groupby('year')"
   ]
  },
  {
   "cell_type": "code",
   "execution_count": null,
   "metadata": {
    "_kg_hide-input": true,
    "_kg_hide-output": true,
    "_uuid": "ed084c1154554e01d6fd3b7a76a06f2a537a6631"
   },
   "outputs": [],
   "source": [
    "year_win.head()"
   ]
  },
  {
   "cell_type": "markdown",
   "metadata": {
    "_uuid": "bf11bf25f8f26d56a321c3b081c1ba3f3b89b9fa"
   },
   "source": [
    "# Percentage of most wins in a single grand prix"
   ]
  },
  {
   "cell_type": "code",
   "execution_count": null,
   "metadata": {
    "_kg_hide-input": true,
    "_uuid": "32a84ae8d1cd27f6117642163eb9d643f4f43b9a"
   },
   "outputs": [],
   "source": [
    "win_count = year_win['surname'].value_counts()\n",
    "trace = go.Pie(labels=win_count.index, values=win_count.values, hole=0.6,textinfo='none')\n",
    "layout = go.Layout(\n",
    "    title='Win Percentage by Drivers'\n",
    ")\n",
    "fig = go.Figure(data=[trace], layout=layout)\n",
    "iplot(fig, filename=\"plotting-library\")"
   ]
  },
  {
   "cell_type": "markdown",
   "metadata": {
    "_uuid": "db9d0c0b76d9daa98bf89254e503e8011551990d"
   },
   "source": [
    "**Sorry for the messier graph but had to show somehow.**"
   ]
  },
  {
   "cell_type": "markdown",
   "metadata": {
    "_uuid": "811d20a3be52f61afb7cab887e4af297eb0d50d5"
   },
   "source": [
    "**If you don't remember what a sensation Vettel was during 2010  to 2013 then i feel sorry for you, He was magnificent and unbeatable during that time just like Hamilton these days. **"
   ]
  },
  {
   "cell_type": "markdown",
   "metadata": {
    "_uuid": "a0bcca1d78becbbdf140b720c45c3f368133dcd7"
   },
   "source": [
    "![](https://cached.imagescaler.hbpl.co.uk/resize/scaleWidth/743/cached.offlinehbpl.hbpl.co.uk/news/OMC/3C94258E-A0F0-EE5F-9C4C637F40E82E2E.jpg)"
   ]
  },
  {
   "cell_type": "markdown",
   "metadata": {
    "_uuid": "bea50052c3624342691f8d8dd72de67b2ff7610d"
   },
   "source": [
    "**Am i the only one who misses this old beast ?? Sadly he's got no chance these days as Mercedes Major Engine upgrade made it impossible for anyone else's to compete. Hope Ferrari does it next season**"
   ]
  },
  {
   "cell_type": "code",
   "execution_count": null,
   "metadata": {
    "_kg_hide-input": true,
    "_uuid": "6a390cc92fb73e279ba297c2147cdbb5e3bb0ba1"
   },
   "outputs": [],
   "source": [
    "results4 = results2[['surname','name']]"
   ]
  },
  {
   "cell_type": "markdown",
   "metadata": {
    "_uuid": "98f07ec2dea27e899cba8a8a96967aaaaf56d0ff"
   },
   "source": [
    "# Most Hosted Grand Prix"
   ]
  },
  {
   "cell_type": "code",
   "execution_count": null,
   "metadata": {
    "_kg_hide-input": true,
    "_uuid": "8663ab033fd91fe8fe6a418cf810412481bc3ac8"
   },
   "outputs": [],
   "source": [
    "win_count = results4['name'].value_counts()\n",
    "data = [go.Bar(\n",
    "    x = win_count.index,\n",
    "    y = win_count.values,\n",
    "    \n",
    "    marker = dict(color = random_colors(100))\n",
    ")]\n",
    "layout = dict(\n",
    "         title= \"No of Most Hosted Grand Prix \"\n",
    ")\n",
    "fig = dict( data=data, layout=layout )\n",
    "iplot( fig, validate=False )"
   ]
  },
  {
   "cell_type": "markdown",
   "metadata": {
    "_uuid": "62cbaba20fcade3ca2b44fd8bd227286790b06ec"
   },
   "source": [
    "![](https://news.images.itv.com/image/file/705528/stream_img.jpg)"
   ]
  },
  {
   "cell_type": "markdown",
   "metadata": {
    "_uuid": "72bd9f17e6d2dc8e49b1ea1b5f9fc9a4bcc6ffee"
   },
   "source": [
    "**It's Silverstone baby !!!!! British Grand Prix has been hosted most no of times.**"
   ]
  },
  {
   "cell_type": "code",
   "execution_count": null,
   "metadata": {
    "_kg_hide-input": true,
    "_kg_hide-output": true,
    "_uuid": "8aedd674324d85e478ca449acc0bebe10bb21ea2"
   },
   "outputs": [],
   "source": [
    "con_results= pd.read_csv('../input/constructorResults.csv')\n",
    "con_results.head()"
   ]
  },
  {
   "cell_type": "code",
   "execution_count": null,
   "metadata": {
    "_kg_hide-input": true,
    "_uuid": "cc4f626f45f3904f48b3eb2276e18520bd3e210f"
   },
   "outputs": [],
   "source": [
    "results5= constructors.merge(con_results, how='left', on= 'constructorId')"
   ]
  },
  {
   "cell_type": "code",
   "execution_count": null,
   "metadata": {
    "_kg_hide-input": true,
    "_kg_hide-output": true,
    "_uuid": "b287a0deca5e3d03c072baf5ae593cfcab404e57"
   },
   "outputs": [],
   "source": [
    "results5"
   ]
  },
  {
   "cell_type": "code",
   "execution_count": null,
   "metadata": {
    "_uuid": "bfd3a20b3814bdfc7b91741598223b8eca6c2a14"
   },
   "outputs": [],
   "source": []
  },
  {
   "cell_type": "code",
   "execution_count": null,
   "metadata": {
    "_kg_hide-input": true,
    "_uuid": "e68fdd77fb3600f64f4132258ee8f6ecea7a7a93"
   },
   "outputs": [],
   "source": [
    "sum_points= results5.groupby('name').sum()"
   ]
  },
  {
   "cell_type": "code",
   "execution_count": null,
   "metadata": {
    "_kg_hide-input": true,
    "_kg_hide-output": true,
    "_uuid": "bf0ff6bc17280d674fb46eab2e4b7284919871b2"
   },
   "outputs": [],
   "source": [
    "sum_points"
   ]
  },
  {
   "cell_type": "code",
   "execution_count": null,
   "metadata": {
    "_kg_hide-input": true,
    "_uuid": "9f6e5debebbabe3378a78daa6124db4419f8482b"
   },
   "outputs": [],
   "source": [
    "name_sort= results5.sort_values('name')"
   ]
  },
  {
   "cell_type": "code",
   "execution_count": null,
   "metadata": {
    "_kg_hide-input": true,
    "_kg_hide-output": true,
    "_uuid": "7eb81d4dfa5dc0d114e81e315fb2ccdf203704b0"
   },
   "outputs": [],
   "source": [
    "name_sort.head()"
   ]
  },
  {
   "cell_type": "code",
   "execution_count": null,
   "metadata": {
    "_kg_hide-input": true,
    "_uuid": "418e04661093637fc02f2a7ab8f9c9dbdb569aab"
   },
   "outputs": [],
   "source": [
    "name_sort= results5.sort_values('name').drop_duplicates('constructorId')"
   ]
  },
  {
   "cell_type": "code",
   "execution_count": null,
   "metadata": {
    "_kg_hide-input": true,
    "_kg_hide-output": true,
    "_uuid": "540c48bb45ab6eabe2535700415ba177d8011099"
   },
   "outputs": [],
   "source": [
    "name_sort"
   ]
  },
  {
   "cell_type": "markdown",
   "metadata": {
    "_uuid": "abb3adb0469f4b7201d1267536454847776e4784"
   },
   "source": [
    "# Sum of all the points won by all the constructors over the years"
   ]
  },
  {
   "cell_type": "code",
   "execution_count": null,
   "metadata": {
    "_kg_hide-input": true,
    "_uuid": "b3f45e479e880527eda08628826b2730a72bb490"
   },
   "outputs": [],
   "source": [
    "data = [go.Bar(\n",
    "    x = name_sort.name,\n",
    "    y = sum_points.points,\n",
    "    marker = dict(color = random_colors(100))\n",
    ")]\n",
    "layout = dict(\n",
    "         title= \"Sum of Most Point Won by different constructors \"\n",
    ")\n",
    "fig = dict( data=data, layout=layout )\n",
    "iplot( fig, validate=False )"
   ]
  },
  {
   "cell_type": "markdown",
   "metadata": {
    "_uuid": "0ac00420a3aaf7c5833838c5e7a589e3e7c74fb7"
   },
   "source": [
    "**Mercedes might be the lone wolf nowdays but we all know deep inside what ferrari has done and what kind of drivers ride ferrari till date. From Lauda to Vettel they all have ride ferrari. Although i'm gonna miss Kimi.**"
   ]
  },
  {
   "cell_type": "markdown",
   "metadata": {
    "_uuid": "9f5a4e2c4b47c440d0810c53862c1dfe0cb11ff1"
   },
   "source": [
    "![](https://rmsothebys-cache.azureedge.net/e/5/4/2/4/5/e54245e1132f511d2a00a8eed98d19ffcd375fce.jpg)"
   ]
  },
  {
   "cell_type": "code",
   "execution_count": null,
   "metadata": {
    "_uuid": "d1d5678250ddf5c1354963f4f00b45bb974cb857"
   },
   "outputs": [],
   "source": [
    "laptimes= pd.read_csv('../input/lapTimes.csv')\n",
    "laptimes.head()"
   ]
  },
  {
   "cell_type": "code",
   "execution_count": null,
   "metadata": {
    "_kg_hide-input": true,
    "_uuid": "287ca2a609812092294afe5320f2344b1e9bd3a8"
   },
   "outputs": [],
   "source": [
    "laptimes1= laptimes.merge(drivers, how='left', on= 'driverId')"
   ]
  },
  {
   "cell_type": "code",
   "execution_count": null,
   "metadata": {
    "_kg_hide-input": true,
    "_kg_hide-output": true,
    "_uuid": "1d4f777ad7fee071a9e7c16567574b7a9fa854c0"
   },
   "outputs": [],
   "source": [
    "laptimes1.head()"
   ]
  },
  {
   "cell_type": "code",
   "execution_count": null,
   "metadata": {
    "_kg_hide-input": true,
    "_uuid": "506af0b1ce61ac8cf37224f8601662c3d9961c9f"
   },
   "outputs": [],
   "source": [
    "laptimes1= laptimes1[['lap','position','surname','time','milliseconds']]"
   ]
  },
  {
   "cell_type": "code",
   "execution_count": null,
   "metadata": {
    "_kg_hide-input": true,
    "_uuid": "93ff4e651acc988a3fa7c4c4b01a9c7af32267c0"
   },
   "outputs": [],
   "source": [
    "import seaborn as sns\n",
    "g = sns.pairplot(laptimes1, hue='surname')"
   ]
  },
  {
   "cell_type": "markdown",
   "metadata": {
    "_uuid": "0b69d54a2e2f6d8d6447d549eeab9d5a78fdaa90"
   },
   "source": [
    "**Drivers and their pair wise relationships to winning and time taken per lap.**"
   ]
  },
  {
   "cell_type": "code",
   "execution_count": null,
   "metadata": {
    "_kg_hide-input": true,
    "_kg_hide-output": true,
    "_uuid": "ad48758f6a35092674b90233fd8a1ed62ddcae18"
   },
   "outputs": [],
   "source": [
    "race_results= pd.read_csv('../input/results.csv')\n",
    "race_results.head()"
   ]
  },
  {
   "cell_type": "code",
   "execution_count": null,
   "metadata": {
    "_kg_hide-input": true,
    "_kg_hide-output": true,
    "_uuid": "5cc9686792c27e7a9946e6bcb4806ccdc6d8b2bf"
   },
   "outputs": [],
   "source": [
    "status= pd.read_csv('../input/status.csv')\n",
    "status.head()"
   ]
  },
  {
   "cell_type": "code",
   "execution_count": null,
   "metadata": {
    "_kg_hide-input": true,
    "_uuid": "d4f616f14bc157a54a6462b21819398fe1a28963"
   },
   "outputs": [],
   "source": [
    "new_results= race_results.merge(status, how='left', on= 'statusId')"
   ]
  },
  {
   "cell_type": "code",
   "execution_count": null,
   "metadata": {
    "_kg_hide-input": true,
    "_kg_hide-output": true,
    "_uuid": "8e0d6b1d3bfeb3c5b9f6aa34982fc49f3d7ae5d4"
   },
   "outputs": [],
   "source": [
    "new_results.head()"
   ]
  },
  {
   "cell_type": "code",
   "execution_count": null,
   "metadata": {
    "_kg_hide-input": true,
    "_uuid": "a46029d63f111b6ddd2b08cbe726c2f0e132715d"
   },
   "outputs": [],
   "source": [
    "win_count = new_results['status'].value_counts()\n",
    "trace = go.Pie(labels=win_count.index, values=win_count.values, hole=0.6,textinfo='none')\n",
    "layout = go.Layout(\n",
    "    title='Drive Status Percentage'\n",
    ")\n",
    "fig = go.Figure(data=[trace], layout=layout)\n",
    "iplot(fig, filename=\"plotting-library\")"
   ]
  },
  {
   "cell_type": "code",
   "execution_count": null,
   "metadata": {
    "_kg_hide-input": true,
    "_uuid": "d9dcc17b0917f04f2db8938a6c993db03b810388"
   },
   "outputs": [],
   "source": [
    "new_results1= new_results.merge(drivers, how='left', on= 'driverId')"
   ]
  },
  {
   "cell_type": "code",
   "execution_count": null,
   "metadata": {
    "_uuid": "76f4b0ff395acae64a0bda7e72c46626cc143a53"
   },
   "outputs": [],
   "source": [
    "new_results1.head()"
   ]
  },
  {
   "cell_type": "code",
   "execution_count": null,
   "metadata": {
    "_uuid": "01ebb97de4643b2c7f79c071554442b6c90a3707"
   },
   "outputs": [],
   "source": [
    "data = [go.Bar(\n",
    "    x = new_results1['surname'],\n",
    "    y = new_results1['fastestLapSpeed'],\n",
    "    marker = dict(color = random_colors(100))\n",
    ")]\n",
    "layout = dict(\n",
    "         title= \"fastest lap Speed by different drivers \"\n",
    ")\n",
    "fig = dict( data=data, layout=layout )\n",
    "iplot( fig, validate=False )"
   ]
  },
  {
   "cell_type": "code",
   "execution_count": null,
   "metadata": {
    "_kg_hide-input": true,
    "_uuid": "148a4515e8d9f7b572521982e607ea040e2ae862"
   },
   "outputs": [],
   "source": [
    "pit_stops= pd.read_csv('../input/pitStops.csv')\n",
    "pit_stops.head()"
   ]
  },
  {
   "cell_type": "code",
   "execution_count": null,
   "metadata": {
    "_kg_hide-input": true,
    "_uuid": "8369c04cd1f0fb33b4e5cdfd72825f538cd97704"
   },
   "outputs": [],
   "source": [
    "pit_results= pit_stops.merge(drivers, how='left', on= 'driverId')"
   ]
  },
  {
   "cell_type": "code",
   "execution_count": null,
   "metadata": {
    "_kg_hide-input": true,
    "_kg_hide-output": true,
    "_uuid": "497825c8e0a0adabc983e755ea762d05c6d61cd1"
   },
   "outputs": [],
   "source": [
    "pit_results.head()"
   ]
  },
  {
   "cell_type": "code",
   "execution_count": null,
   "metadata": {
    "_kg_hide-input": true,
    "_uuid": "b8dbceb06dc81cef314ede7b7474f3b79c39a80d"
   },
   "outputs": [],
   "source": [
    "pit_results1= pit_results.drop_duplicates( keep=False)"
   ]
  },
  {
   "cell_type": "code",
   "execution_count": null,
   "metadata": {
    "_kg_hide-input": true,
    "_uuid": "d9df3c747cfd14f8e30a7028f84f9437f80added"
   },
   "outputs": [],
   "source": [
    "data = [go.Bar(\n",
    "    x = pit_results1['surname'],\n",
    "    y = pit_results1['duration'],\n",
    "    marker = dict(color = random_colors(100))\n",
    ")]\n",
    "layout = dict(\n",
    "         title= \"fastest pit stops by different drivers (in seconds) \"\n",
    ")\n",
    "fig = dict( data=data, layout=layout )\n",
    "iplot( fig, validate=False )"
   ]
  },
  {
   "cell_type": "markdown",
   "metadata": {
    "_uuid": "2e628d25e04aa4dad9f92b2f304017de6701b40d"
   },
   "source": [
    "**Scroll over on the drivers name to see their's best pit stop timing as the graph shows their highest time taken during the pit stop.**"
   ]
  },
  {
   "cell_type": "markdown",
   "metadata": {
    "_kg_hide-input": true,
    "_uuid": "33193551b53b1f03ff0005e830f5a40162b36c0a"
   },
   "source": [
    "# If you liked my analysis please upvote the kernel and i'll update as it may come."
   ]
  }
 ],
 "metadata": {
  "kernelspec": {
   "display_name": "Python 3",
   "language": "python",
   "name": "python3"
  },
  "language_info": {
   "codemirror_mode": {
    "name": "ipython",
    "version": 3
   },
   "file_extension": ".py",
   "mimetype": "text/x-python",
   "name": "python",
   "nbconvert_exporter": "python",
   "pygments_lexer": "ipython3",
   "version": "3.7.9"
  }
 },
 "nbformat": 4,
 "nbformat_minor": 1
}
